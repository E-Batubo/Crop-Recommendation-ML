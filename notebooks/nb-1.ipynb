{
 "cells": [
  {
   "cell_type": "markdown",
   "id": "c1c3cd8d-ff9c-4e36-8cb4-73c8125414be",
   "metadata": {},
   "source": [
    "# Crop Recommendation Using Machine Learning\n",
    "\n",
    "This project recommends the best crop for cultivation based on certain soil and weather conditions. The goal is to help farmers make data-driven decisions and improve agricultural productivity.\n",
    "\n",
    "### Objectives:\n",
    "- Use soil and weather parameters to predict the most suitable crop.\n",
    "- Build and evaluate a machine learning model for accurate predictions.\n",
    "\n",
    "**Dataset**: [Crop Recommendation Dataset](https://www.kaggle.com/datasets/atharvaingle/crop-recommendation-dataset) by Atharva Ingle."
   ]
  },
  {
   "cell_type": "markdown",
   "id": "8cdc7ec7-c3c5-4360-bb85-d82b533c4360",
   "metadata": {},
   "source": [
    "### Dataset Overview"
   ]
  },
  {
   "cell_type": "code",
   "execution_count": 1,
   "id": "93b1c89f-5b4b-4408-973b-77ce9f5a04f9",
   "metadata": {},
   "outputs": [],
   "source": [
    "import numpy as np # linear algebra\n",
    "import pandas as pd # data processing, CSV file I/O (e.g. pd.read_csv)"
   ]
  },
  {
   "cell_type": "code",
   "execution_count": 9,
   "id": "580878e2-4bf1-42d9-af35-d5e6f65b5fb4",
   "metadata": {},
   "outputs": [
    {
     "data": {
      "text/html": [
       "<div>\n",
       "<style scoped>\n",
       "    .dataframe tbody tr th:only-of-type {\n",
       "        vertical-align: middle;\n",
       "    }\n",
       "\n",
       "    .dataframe tbody tr th {\n",
       "        vertical-align: top;\n",
       "    }\n",
       "\n",
       "    .dataframe thead th {\n",
       "        text-align: right;\n",
       "    }\n",
       "</style>\n",
       "<table border=\"1\" class=\"dataframe\">\n",
       "  <thead>\n",
       "    <tr style=\"text-align: right;\">\n",
       "      <th></th>\n",
       "      <th>N</th>\n",
       "      <th>P</th>\n",
       "      <th>K</th>\n",
       "      <th>temperature</th>\n",
       "      <th>humidity</th>\n",
       "      <th>ph</th>\n",
       "      <th>rainfall</th>\n",
       "      <th>label</th>\n",
       "    </tr>\n",
       "  </thead>\n",
       "  <tbody>\n",
       "    <tr>\n",
       "      <th>0</th>\n",
       "      <td>90</td>\n",
       "      <td>42</td>\n",
       "      <td>43</td>\n",
       "      <td>20.879744</td>\n",
       "      <td>82.002744</td>\n",
       "      <td>6.502985</td>\n",
       "      <td>202.935536</td>\n",
       "      <td>rice</td>\n",
       "    </tr>\n",
       "    <tr>\n",
       "      <th>1</th>\n",
       "      <td>85</td>\n",
       "      <td>58</td>\n",
       "      <td>41</td>\n",
       "      <td>21.770462</td>\n",
       "      <td>80.319644</td>\n",
       "      <td>7.038096</td>\n",
       "      <td>226.655537</td>\n",
       "      <td>rice</td>\n",
       "    </tr>\n",
       "    <tr>\n",
       "      <th>2</th>\n",
       "      <td>60</td>\n",
       "      <td>55</td>\n",
       "      <td>44</td>\n",
       "      <td>23.004459</td>\n",
       "      <td>82.320763</td>\n",
       "      <td>7.840207</td>\n",
       "      <td>263.964248</td>\n",
       "      <td>rice</td>\n",
       "    </tr>\n",
       "    <tr>\n",
       "      <th>3</th>\n",
       "      <td>74</td>\n",
       "      <td>35</td>\n",
       "      <td>40</td>\n",
       "      <td>26.491096</td>\n",
       "      <td>80.158363</td>\n",
       "      <td>6.980401</td>\n",
       "      <td>242.864034</td>\n",
       "      <td>rice</td>\n",
       "    </tr>\n",
       "    <tr>\n",
       "      <th>4</th>\n",
       "      <td>78</td>\n",
       "      <td>42</td>\n",
       "      <td>42</td>\n",
       "      <td>20.130175</td>\n",
       "      <td>81.604873</td>\n",
       "      <td>7.628473</td>\n",
       "      <td>262.717340</td>\n",
       "      <td>rice</td>\n",
       "    </tr>\n",
       "  </tbody>\n",
       "</table>\n",
       "</div>"
      ],
      "text/plain": [
       "    N   P   K  temperature   humidity        ph    rainfall label\n",
       "0  90  42  43    20.879744  82.002744  6.502985  202.935536  rice\n",
       "1  85  58  41    21.770462  80.319644  7.038096  226.655537  rice\n",
       "2  60  55  44    23.004459  82.320763  7.840207  263.964248  rice\n",
       "3  74  35  40    26.491096  80.158363  6.980401  242.864034  rice\n",
       "4  78  42  42    20.130175  81.604873  7.628473  262.717340  rice"
      ]
     },
     "execution_count": 9,
     "metadata": {},
     "output_type": "execute_result"
    }
   ],
   "source": [
    "# Load the dataset\n",
    "file_path = 'Crop_recommendation_dataset.csv'\n",
    "crop_data = pd.read_csv(file_path)\n",
    "\n",
    "# Display the first few rows\n",
    "crop_data.head()"
   ]
  },
  {
   "cell_type": "markdown",
   "id": "86298f1c-c1bf-45f3-8836-7229ae61ddd8",
   "metadata": {},
   "source": [
    "### Dataset Description:\n",
    "- **Rainfall (mm)**: The amount of rainfall.\n",
    "- **Soil pH**: Acidity or alkalinity of the soil.\n",
    "- **Temperature (°C)**: Average temperature.\n",
    "- **Nitrogen (N), Phosphorus (P), Potassium (K)**: Essential nutrients in the soil.\n",
    "- **Relative Humidity (%)**: The percentage of moisture in the air.\n",
    "- **Label**: The recommended crop.\n",
    "\n",
    "The dataset contains `2200 rows` and `8 columns`.\n"
   ]
  },
  {
   "cell_type": "markdown",
   "id": "3a451810-5894-4e8f-be9c-d038055d79a2",
   "metadata": {},
   "source": [
    "### Exploratory Data Analysis (EDA)"
   ]
  },
  {
   "cell_type": "code",
   "execution_count": 11,
   "id": "8c683628-3ce6-437f-ba61-2381a3c5c57a",
   "metadata": {},
   "outputs": [
    {
     "data": {
      "image/png": "[encoded data removed]",
      "text/plain": [
       "<Figure size 1000x600 with 1 Axes>"
      ]
     },
     "metadata": {},
     "output_type": "display_data"
    }
   ],
   "source": [
    "import matplotlib.pyplot as plt\n",
    "import seaborn as sns\n",
    "\n",
    "# Summary statistics\n",
    "crop_data.describe()\n",
    "\n",
    "# Check for missing values\n",
    "crop_data.isnull().sum()\n",
    "\n",
    "# Distribution of crops\n",
    "plt.figure(figsize=(10, 6))\n",
    "sns.countplot(y=crop_data['label'], order=crop_data['label'].value_counts().index)\n",
    "plt.title('Crop Distribution')\n",
    "plt.show()"
   ]
  },
  {
   "cell_type": "markdown",
   "id": "81d7786e-9750-498d-a664-5141911f227a",
   "metadata": {},
   "source": [
    "### Observations:\n",
    "- No missing values in the dataset.\n",
    "- The dataset includes diverse crops, ensuring a balanced model."
   ]
  },
  {
   "cell_type": "markdown",
   "id": "6ae3be75-4b0a-4ebb-97a8-0111a4b3ae91",
   "metadata": {},
   "source": [
    "### Target Labels Encoding"
   ]
  },
  {
   "cell_type": "code",
   "execution_count": 13,
   "id": "e6c3fb88-1259-46c2-bed0-8afb250cf7e9",
   "metadata": {},
   "outputs": [
    {
     "name": "stdout",
     "output_type": "stream",
     "text": [
      "Label Mapping:\n",
      " {0: 'apple', 1: 'banana', 2: 'blackgram', 3: 'chickpea', 4: 'coconut', 5: 'coffee', 6: 'cotton', 7: 'grapes', 8: 'jute', 9: 'kidneybeans', 10: 'lentil', 11: 'maize', 12: 'mango', 13: 'mothbeans', 14: 'mungbean', 15: 'muskmelon', 16: 'orange', 17: 'papaya', 18: 'pigeonpeas', 19: 'pomegranate', 20: 'rice', 21: 'watermelon'}\n"
     ]
    }
   ],
   "source": [
    "#   Target labels encoding\n",
    "from sklearn.preprocessing import LabelEncoder, StandardScaler\n",
    "\n",
    "label_encoder = LabelEncoder()\n",
    "crop_data['label_encoded'] = label_encoder.fit_transform(crop_data['label'])\n",
    "\n",
    "#   Mapping btw encodaded labels and crop names\n",
    "label_mapping = {index: label for index, label in enumerate(label_encoder.classes_)}\n",
    "print(\"Label Mapping:\\n\", label_mapping)"
   ]
  },
  {
   "cell_type": "markdown",
   "id": "f536bb4c-5f73-4f81-8725-6293ac01912b",
   "metadata": {},
   "source": [
    "### Data Standardization\n",
    "Standardizing the features ensures they are on the same scale, which is particularly important for models that depend on distance metrics or gradients."
   ]
  },
  {
   "cell_type": "code",
   "execution_count": 15,
   "id": "46853dac-490c-490d-9f06-3d2cf2a7e696",
   "metadata": {},
   "outputs": [
    {
     "name": "stdout",
     "output_type": "stream",
     "text": [
      "Feature columns used in training: ['N', 'P', 'K', 'temperature', 'humidity', 'ph', 'rainfall']\n"
     ]
    }
   ],
   "source": [
    "from sklearn.preprocessing import StandardScaler\n",
    "\n",
    "# Separate features and target variables\n",
    "X = crop_data.drop(columns=['label', 'label_encoded'])\n",
    "y = crop_data['label_encoded']\n",
    "\n",
    "# Standardize the features\n",
    "scaler = StandardScaler()\n",
    "X_scaled = scaler.fit_transform(X)\n",
    "\n",
    "# Log column names for reference\n",
    "print(\"Feature columns used in training:\", X.columns.to_list())"
   ]
  },
  {
   "cell_type": "markdown",
   "id": "e4362a31-36f0-491e-a124-c0da46eeee4a",
   "metadata": {},
   "source": [
    "## Model Training and Evaluation\n",
    "We train a Random Forest Classifier, evaluate its performance using accuracy, confusion matrix, and classification report, and visualize feature importance."
   ]
  },
  {
   "cell_type": "code",
   "execution_count": 17,
   "id": "fac689b7-805b-4dec-80c6-5c1b642e400b",
   "metadata": {},
   "outputs": [
    {
     "name": "stdout",
     "output_type": "stream",
     "text": [
      "Model Accuracy: 99.55%\n",
      "\n",
      "Classification Report:\n",
      "               precision    recall  f1-score   support\n",
      "\n",
      "       apple       1.00      1.00      1.00        20\n",
      "      banana       1.00      1.00      1.00        20\n",
      "   blackgram       1.00      0.95      0.97        20\n",
      "    chickpea       1.00      1.00      1.00        20\n",
      "     coconut       1.00      1.00      1.00        20\n",
      "      coffee       1.00      1.00      1.00        20\n",
      "      cotton       1.00      1.00      1.00        20\n",
      "      grapes       1.00      1.00      1.00        20\n",
      "        jute       0.95      1.00      0.98        20\n",
      " kidneybeans       1.00      1.00      1.00        20\n",
      "      lentil       1.00      1.00      1.00        20\n",
      "       maize       0.95      1.00      0.98        20\n",
      "       mango       1.00      1.00      1.00        20\n",
      "   mothbeans       1.00      1.00      1.00        20\n",
      "    mungbean       1.00      1.00      1.00        20\n",
      "   muskmelon       1.00      1.00      1.00        20\n",
      "      orange       1.00      1.00      1.00        20\n",
      "      papaya       1.00      1.00      1.00        20\n",
      "  pigeonpeas       1.00      1.00      1.00        20\n",
      " pomegranate       1.00      1.00      1.00        20\n",
      "        rice       1.00      0.95      0.97        20\n",
      "  watermelon       1.00      1.00      1.00        20\n",
      "\n",
      "    accuracy                           1.00       440\n",
      "   macro avg       1.00      1.00      1.00       440\n",
      "weighted avg       1.00      1.00      1.00       440\n",
      "\n",
      "Confusion Matrix:\n",
      " [[20  0  0  0  0  0  0  0  0  0  0  0  0  0  0  0  0  0  0  0  0  0]\n",
      " [ 0 20  0  0  0  0  0  0  0  0  0  0  0  0  0  0  0  0  0  0  0  0]\n",
      " [ 0  0 19  0  0  0  0  0  0  0  0  1  0  0  0  0  0  0  0  0  0  0]\n",
      " [ 0  0  0 20  0  0  0  0  0  0  0  0  0  0  0  0  0  0  0  0  0  0]\n",
      " [ 0  0  0  0 20  0  0  0  0  0  0  0  0  0  0  0  0  0  0  0  0  0]\n",
      " [ 0  0  0  0  0 20  0  0  0  0  0  0  0  0  0  0  0  0  0  0  0  0]\n",
      " [ 0  0  0  0  0  0 20  0  0  0  0  0  0  0  0  0  0  0  0  0  0  0]\n",
      " [ 0  0  0  0  0  0  0 20  0  0  0  0  0  0  0  0  0  0  0  0  0  0]\n",
      " [ 0  0  0  0  0  0  0  0 20  0  0  0  0  0  0  0  0  0  0  0  0  0]\n",
      " [ 0  0  0  0  0  0  0  0  0 20  0  0  0  0  0  0  0  0  0  0  0  0]\n",
      " [ 0  0  0  0  0  0  0  0  0  0 20  0  0  0  0  0  0  0  0  0  0  0]\n",
      " [ 0  0  0  0  0  0  0  0  0  0  0 20  0  0  0  0  0  0  0  0  0  0]\n",
      " [ 0  0  0  0  0  0  0  0  0  0  0  0 20  0  0  0  0  0  0  0  0  0]\n",
      " [ 0  0  0  0  0  0  0  0  0  0  0  0  0 20  0  0  0  0  0  0  0  0]\n",
      " [ 0  0  0  0  0  0  0  0  0  0  0  0  0  0 20  0  0  0  0  0  0  0]\n",
      " [ 0  0  0  0  0  0  0  0  0  0  0  0  0  0  0 20  0  0  0  0  0  0]\n",
      " [ 0  0  0  0  0  0  0  0  0  0  0  0  0  0  0  0 20  0  0  0  0  0]\n",
      " [ 0  0  0  0  0  0  0  0  0  0  0  0  0  0  0  0  0 20  0  0  0  0]\n",
      " [ 0  0  0  0  0  0  0  0  0  0  0  0  0  0  0  0  0  0 20  0  0  0]\n",
      " [ 0  0  0  0  0  0  0  0  0  0  0  0  0  0  0  0  0  0  0 20  0  0]\n",
      " [ 0  0  0  0  0  0  0  0  1  0  0  0  0  0  0  0  0  0  0  0 19  0]\n",
      " [ 0  0  0  0  0  0  0  0  0  0  0  0  0  0  0  0  0  0  0  0  0 20]]\n"
     ]
    }
   ],
   "source": [
    "from sklearn.model_selection import train_test_split\n",
    "from sklearn.ensemble import RandomForestClassifier\n",
    "from sklearn.metrics import classification_report, confusion_matrix, accuracy_score\n",
    "import numpy as np\n",
    "\n",
    "# Split the data into training and testing sets\n",
    "X_train, X_test, y_train, y_test = train_test_split(X_scaled, y, test_size=0.2, random_state=42, stratify=y)\n",
    "\n",
    "# Train a Random Forest model\n",
    "random_forest = RandomForestClassifier(random_state=42, n_estimators=100)\n",
    "random_forest.fit(X_train, y_train)\n",
    "\n",
    "# Predict on the test set\n",
    "y_pred = random_forest.predict(X_test)\n",
    "\n",
    "# Evaluate the model\n",
    "accuracy = accuracy_score(y_test, y_pred)\n",
    "class_rept = classification_report(y_test, y_pred, target_names=label_encoder.classes_)\n",
    "conf_matx = confusion_matrix(y_test, y_pred)\n",
    "\n",
    "# Display results\n",
    "print(f\"Model Accuracy: {accuracy * 100:.2f}%\\n\")\n",
    "print(\"Classification Report:\\n\", class_rept)\n",
    "print(\"Confusion Matrix:\\n\", conf_matx)"
   ]
  },
  {
   "cell_type": "markdown",
   "id": "c1a7b336-58a9-4207-a112-2002ae7fe63d",
   "metadata": {},
   "source": [
    "### Observations:\n",
    "- The model achieved an accuracy of **99.55%**.\n",
    "- Precision, recall, and F1-score are high for most crops."
   ]
  },
  {
   "cell_type": "markdown",
   "id": "dc498b6a-d470-45aa-a260-659cd951c2a4",
   "metadata": {},
   "source": [
    "### Feature Importance\n",
    "Visualizing the importance of features helps us understand which features contribute the most to the predictions."
   ]
  },
  {
   "cell_type": "code",
   "execution_count": 19,
   "id": "ccaa0b8a-13ee-4360-9025-0e788abd14d0",
   "metadata": {},
   "outputs": [
    {
     "data": {
      "image/png": "[encoded data removed]",
      "text/plain": [
       "<Figure size 1000x600 with 1 Axes>"
      ]
     },
     "metadata": {},
     "output_type": "display_data"
    }
   ],
   "source": [
    "# Feature importance visualization\n",
    "feature_importance = random_forest.feature_importances_\n",
    "features = X.columns\n",
    "indices = np.argsort(feature_importance)[::-1]\n",
    "\n",
    "plt.figure(figsize=(10, 6))\n",
    "plt.title(\"Feature Importance\")\n",
    "plt.barh(features[indices], feature_importance[indices], align=\"center\")\n",
    "plt.xlabel(\"Relative Importance\")\n",
    "plt.ylabel(\"Features\")\n",
    "plt.gca().invert_yaxis()  # Reverse the order for better visualization\n",
    "plt.show()\n"
   ]
  },
  {
   "cell_type": "markdown",
   "id": "9b8c6c63-9481-4c2f-9862-5bfeec2378cc",
   "metadata": {},
   "source": [
    "## Saving and Loading the Model\n",
    "We save the trained model, scaler, and label encoder for future use. This allows us to make predictions without retraining the model."
   ]
  },
  {
   "cell_type": "code",
   "execution_count": 21,
   "id": "dd574762-eaad-4e28-a08f-c4976d9d3f74",
   "metadata": {},
   "outputs": [],
   "source": [
    "import pickle\n",
    "\n",
    "# Save the model and preprocessing objects\n",
    "with open('crop_recommendation_model.pkl', 'wb') as model_file:\n",
    "    pickle.dump(random_forest, model_file)\n",
    "\n",
    "with open('scaler.pkl', 'wb') as scaler_file:\n",
    "    pickle.dump(scaler, scaler_file)\n",
    "\n",
    "with open('label_encoder.pkl', 'wb') as encoder_file:\n",
    "    pickle.dump(label_encoder, encoder_file)"
   ]
  },
  {
   "cell_type": "markdown",
   "id": "efec92ad-44cb-40c6-9a7f-4762065bf046",
   "metadata": {},
   "source": [
    "### Loading the Saved Model\n",
    "We demonstrate how to load the saved model and use it for predictions."
   ]
  },
  {
   "cell_type": "code",
   "execution_count": 23,
   "id": "1b8ad5ea-4708-4d34-b77f-19a09ba53b39",
   "metadata": {},
   "outputs": [],
   "source": [
    "# Load the saved model and preprocessing objects\n",
    "with open('crop_recommendation_model.pkl', 'rb') as model_file:\n",
    "    loaded_model = pickle.load(model_file)\n",
    "\n",
    "with open('scaler.pkl', 'rb') as scaler_file:\n",
    "    loaded_scaler = pickle.load(scaler_file)\n",
    "\n",
    "with open('label_encoder.pkl', 'rb') as encoder_file:\n",
    "    loaded_encoder = pickle.load(encoder_file)"
   ]
  },
  {
   "cell_type": "markdown",
   "id": "874a872a-74e9-4c61-af8b-b4fc5136851d",
   "metadata": {},
   "source": [
    "## User Input for Prediction\n",
    "We allow users to input environmental conditions, scale the data using the saved scaler, and predict the most suitable crop."
   ]
  },
  {
   "cell_type": "code",
   "execution_count": 25,
   "id": "fd1cbc00-bf17-434c-a1c3-c2c7ddf0db73",
   "metadata": {},
   "outputs": [],
   "source": [
    "def get_user_input():\n",
    "    try:\n",
    "        print(\"\\nEnter the following values for prediction:\")\n",
    "        n = float(input(\"Nitrogen (N): \"))\n",
    "        p = float(input(\"Phosphorous (P): \"))\n",
    "        k = float(input(\"Potassium (K): \"))\n",
    "        temperature = float(input(\"Temperature (°C): \"))\n",
    "        humidity = float(input(\"Relative Humidity (%): \"))\n",
    "        ph = float(input(\"Soil pH: \"))\n",
    "        rainfall = float(input(\"Rainfall (mm): \"))\n",
    "\n",
    "        # Create a DataFrame with proper feature names\n",
    "        data = pd.DataFrame({\n",
    "            'N': [n],\n",
    "            'P': [p],\n",
    "            'K': [k],\n",
    "            'temperature': [temperature],\n",
    "            'humidity': [humidity],\n",
    "            'ph': [ph],\n",
    "            'rainfall': [rainfall]\n",
    "        }, columns=X.columns)  # Dynamically match training columns\n",
    "        return data\n",
    "    except ValueError:\n",
    "        print(\"Invalid inputs. Please enter numeric values only.\")\n",
    "        return None"
   ]
  },
  {
   "cell_type": "code",
   "execution_count": 27,
   "id": "82f939b3-eb04-472a-8497-8902c2ca96cb",
   "metadata": {},
   "outputs": [],
   "source": [
    "def predict_crop(input_features, model, scaler, label_encoder):\n",
    "    if input_features is not None:\n",
    "        # Scale the features\n",
    "        scaled_features = scaler.transform(input_features)\n",
    "        # Predict using the model\n",
    "        prediction = model.predict(scaled_features)\n",
    "        # Decode predictions to crop names\n",
    "        crop_name = label_encoder.inverse_transform(prediction)\n",
    "        return crop_name[0]\n",
    "    else:\n",
    "        return None"
   ]
  },
  {
   "cell_type": "markdown",
   "id": "d4f63fbd-9dc0-4b5b-bd07-8903ff703ed1",
   "metadata": {},
   "source": [
    "### Predicting the Crop\n",
    "Run the following cell to interactively predict the crop based on user-provided inputs."
   ]
  },
  {
   "cell_type": "code",
   "execution_count": 29,
   "id": "3da0e3d4-fcfa-44a0-9e0f-d512279ddcac",
   "metadata": {},
   "outputs": [
    {
     "name": "stdout",
     "output_type": "stream",
     "text": [
      "\n",
      "Enter the following values for prediction:\n"
     ]
    },
    {
     "name": "stdin",
     "output_type": "stream",
     "text": [
      "Nitrogen (N):  45\n",
      "Phosphorous (P):  46\n",
      "Potassium (K):  38\n",
      "Temperature (°C):  39\n",
      "Relative Humidity (%):  300\n",
      "Soil pH:  8\n",
      "Rainfall (mm):  200\n"
     ]
    },
    {
     "name": "stdout",
     "output_type": "stream",
     "text": [
      "The recommended crop for the given conditions is: papaya\n"
     ]
    }
   ],
   "source": [
    "if __name__ == \"__main__\":\n",
    "    input_features = get_user_input()\n",
    "\n",
    "    if input_features is not None:\n",
    "        predicted_crop = predict_crop(input_features, loaded_model, loaded_scaler, loaded_encoder)\n",
    "        print(f\"The recommended crop for the given conditions is: {predicted_crop}\")\n",
    "    else:\n",
    "        print(\"Failed to provide valid input.\")"
   ]
  },
  {
   "cell_type": "markdown",
   "id": "b7652aa9-8bee-4773-b2aa-1f915f422c79",
   "metadata": {},
   "source": [
    "### Conclusion:\n",
    "- A Random Forest Classifier was used to predict the most suitable crop based on soil and weather conditions.\n",
    "- The model provides valuable insights for farmers and agricultural experts.\n",
    "\n",
    "### Future Work:\n",
    "- Include additional features like soil type and geographic location.\n",
    "- Deploy the model as a web application for real-time recommendations.\n"
   ]
  },
  {
   "cell_type": "markdown",
   "id": "4f15fd7f-515d-4f89-9ea7-fa859038cee6",
   "metadata": {},
   "source": [
    "### References:\n",
    "- Dataset: [Crop Recommendation Dataset](https://www.kaggle.com/datasets/atharvaingle/crop-recommendation-dataset) by Atharva Ingle.\n",
    "- Scikit-learn Documentation: https://scikit-learn.org/\n",
    "\n",
    "### Acknowledgments:\n",
    "- Thanks to Atharva Ingle for providing the dataset."
   ]
  }
 ],
 "metadata": {
  "kernelspec": {
   "display_name": "Python [conda env:base] *",
   "language": "python",
   "name": "conda-base-py"
  },
  "language_info": {
   "codemirror_mode": {
    "name": "ipython",
    "version": 3
   },
   "file_extension": ".py",
   "mimetype": "text/x-python",
   "name": "python",
   "nbconvert_exporter": "python",
   "pygments_lexer": "ipython3",
   "version": "3.12.7"
  }
 },
 "nbformat": 4,
 "nbformat_minor": 5
}
